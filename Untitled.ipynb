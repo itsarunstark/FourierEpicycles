{
 "cells": [
  {
   "cell_type": "code",
   "execution_count": 10,
   "id": "948ba654-076b-4031-803a-2c65551864d4",
   "metadata": {},
   "outputs": [],
   "source": [
    "from ipycanvas import Canvas,hold_canvas"
   ]
  },
  {
   "cell_type": "code",
   "execution_count": 15,
   "id": "ea13378e-6eac-420b-b779-98d2f363abb8",
   "metadata": {},
   "outputs": [],
   "source": [
    "canvas = Canvas(width=100, height=100,color=\"#000000\")\n",
    "canvas.fill_rect(0,0,100,100)"
   ]
  },
  {
   "cell_type": "code",
   "execution_count": null,
   "id": "fc07d4b5-cde5-49dc-ac42-f7e44d9312d7",
   "metadata": {},
   "outputs": [],
   "source": []
  }
 ],
 "metadata": {
  "kernelspec": {
   "display_name": "Python 3 (ipykernel)",
   "language": "python",
   "name": "python3"
  },
  "language_info": {
   "codemirror_mode": {
    "name": "ipython",
    "version": 3
   },
   "file_extension": ".py",
   "mimetype": "text/x-python",
   "name": "python",
   "nbconvert_exporter": "python",
   "pygments_lexer": "ipython3",
   "version": "3.11.7"
  }
 },
 "nbformat": 4,
 "nbformat_minor": 5
}
